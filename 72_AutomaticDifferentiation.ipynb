{
 "cells": [
  {
   "cell_type": "markdown",
   "id": "cb21a9d5",
   "metadata": {},
   "source": [
    "# Automatic Differentiation"
   ]
  },
  {
   "cell_type": "markdown",
   "id": "8b44c80b",
   "metadata": {},
   "source": [
    "```\n",
    "x = 5\n",
    "y = x^2\n",
    "\n",
    "\n",
    "(dy)/(dx) = 2x = 2(5) = 10\n",
    "```"
   ]
  },
  {
   "cell_type": "code",
   "execution_count": 1,
   "id": "c3cfcf20",
   "metadata": {},
   "outputs": [],
   "source": [
    "import torch\n",
    "import tensorflow as tf\n",
    "import matplotlib.pyplot as plt"
   ]
  },
  {
   "cell_type": "code",
   "execution_count": 2,
   "id": "830a8f91",
   "metadata": {},
   "outputs": [
    {
     "data": {
      "text/plain": [
       "tensor(5.)"
      ]
     },
     "execution_count": 2,
     "metadata": {},
     "output_type": "execute_result"
    }
   ],
   "source": [
    "x = torch.tensor(5.0)\n",
    "x"
   ]
  },
  {
   "cell_type": "code",
   "execution_count": 3,
   "id": "4a41e824",
   "metadata": {},
   "outputs": [
    {
     "data": {
      "text/plain": [
       "tensor(5., requires_grad=True)"
      ]
     },
     "execution_count": 3,
     "metadata": {},
     "output_type": "execute_result"
    }
   ],
   "source": [
    "x.requires_grad_() # contagiously track gradients through forward pass"
   ]
  },
  {
   "cell_type": "code",
   "execution_count": 4,
   "id": "adb78b8a",
   "metadata": {},
   "outputs": [],
   "source": [
    "y = x**2"
   ]
  },
  {
   "cell_type": "code",
   "execution_count": 5,
   "id": "1b0df05a",
   "metadata": {},
   "outputs": [],
   "source": [
    "y.backward() # use autodiff"
   ]
  },
  {
   "cell_type": "code",
   "execution_count": 6,
   "id": "a442062e",
   "metadata": {},
   "outputs": [
    {
     "data": {
      "text/plain": [
       "tensor(10.)"
      ]
     },
     "execution_count": 6,
     "metadata": {},
     "output_type": "execute_result"
    }
   ],
   "source": [
    "x.grad"
   ]
  },
  {
   "cell_type": "markdown",
   "id": "b7373e27",
   "metadata": {},
   "source": [
    "Repeat but with TensorFlow"
   ]
  },
  {
   "cell_type": "code",
   "execution_count": 7,
   "id": "570eb534",
   "metadata": {},
   "outputs": [
    {
     "data": {
      "text/plain": [
       "<tf.Variable 'Variable:0' shape=() dtype=float32, numpy=5.0>"
      ]
     },
     "execution_count": 7,
     "metadata": {},
     "output_type": "execute_result"
    }
   ],
   "source": [
    "x = tf.Variable(5.0)\n",
    "x"
   ]
  },
  {
   "cell_type": "code",
   "execution_count": 8,
   "id": "f7c045bb",
   "metadata": {},
   "outputs": [],
   "source": [
    "with tf.GradientTape() as t:\n",
    "    t.watch(x) # track forward pass\n",
    "    y = x**2"
   ]
  },
  {
   "cell_type": "code",
   "execution_count": 9,
   "id": "d8cb0e1b",
   "metadata": {},
   "outputs": [
    {
     "data": {
      "text/plain": [
       "<tf.Tensor: shape=(), dtype=float32, numpy=10.0>"
      ]
     },
     "execution_count": 9,
     "metadata": {},
     "output_type": "execute_result"
    }
   ],
   "source": [
    "t.gradient(y,x) # use autodiff"
   ]
  },
  {
   "cell_type": "markdown",
   "id": "e5bdd2e2",
   "metadata": {},
   "source": [
    "# The Line Equation as a Tensor Graph #\n",
    "\n",
    "Lione equation: y = mx + b "
   ]
  },
  {
   "cell_type": "code",
   "execution_count": 10,
   "id": "5ae04e60",
   "metadata": {},
   "outputs": [
    {
     "data": {
      "text/plain": [
       "tensor([0., 1., 2., 3., 4., 5., 6., 7.])"
      ]
     },
     "execution_count": 10,
     "metadata": {},
     "output_type": "execute_result"
    }
   ],
   "source": [
    "x = torch.tensor([0,1,2,3,4,5,6,7.]) # E.g.: Dosage of drug for treating Alzheimer's disease\n",
    "x"
   ]
  },
  {
   "cell_type": "code",
   "execution_count": 11,
   "id": "73c797a4",
   "metadata": {},
   "outputs": [],
   "source": [
    "# m= -0.5 and b = 2\n",
    "# y = -0.5*x + 2 + torch.normal(mean=torch.zeros(8), std=0.2)\n",
    "# y"
   ]
  },
  {
   "cell_type": "code",
   "execution_count": 12,
   "id": "fe8fa11f",
   "metadata": {},
   "outputs": [
    {
     "data": {
      "text/plain": [
       "tensor([ 1.8600,  1.3100,  0.6200,  0.3300,  0.0900, -0.6700, -1.2300, -1.3700])"
      ]
     },
     "execution_count": 12,
     "metadata": {},
     "output_type": "execute_result"
    }
   ],
   "source": [
    "# For reproducibility of this tutorial, here's a fixed example of y values obtained by running the commented-out line above:\n",
    "y = torch.tensor([1.86,1.31,.62,.33,.09,-.67,-1.23,-1.37]) # E.g.: Patient's \"forgetfulness score\"\n",
    "y"
   ]
  },
  {
   "cell_type": "code",
   "execution_count": 13,
   "id": "79fb72f9",
   "metadata": {},
   "outputs": [
    {
     "data": {
      "image/png": "[encoded data removed]",
      "text/plain": [
       "<Figure size 640x480 with 1 Axes>"
      ]
     },
     "metadata": {},
     "output_type": "display_data"
    }
   ],
   "source": [
    "fig, ax = plt.subplots()\n",
    "plt.title('Clinical Trial')\n",
    "plt.xlabel('Drug Dosage (mL)')\n",
    "plt.ylabel('Forgetfulness')\n",
    "_=ax.scatter(x,y)"
   ]
  },
  {
   "cell_type": "code",
   "execution_count": 14,
   "id": "f46b9837",
   "metadata": {},
   "outputs": [
    {
     "data": {
      "text/plain": [
       "tensor([0.9000], requires_grad=True)"
      ]
     },
     "execution_count": 14,
     "metadata": {},
     "output_type": "execute_result"
    }
   ],
   "source": [
    "# IOnitialize the slope parameter m with a \"random\" value of 0.9\n",
    "m = torch.tensor([0.9]).requires_grad_()\n",
    "m"
   ]
  },
  {
   "cell_type": "code",
   "execution_count": 15,
   "id": "b5a0a0b4",
   "metadata": {},
   "outputs": [
    {
     "data": {
      "text/plain": [
       "tensor([0.1000], requires_grad=True)"
      ]
     },
     "execution_count": 15,
     "metadata": {},
     "output_type": "execute_result"
    }
   ],
   "source": [
    "b = torch.tensor([0.1]).requires_grad_()\n",
    "b"
   ]
  },
  {
   "cell_type": "code",
   "execution_count": 18,
   "id": "3957ac1f",
   "metadata": {},
   "outputs": [],
   "source": [
    "def regression_plot(my_x,my_y,my_m,my_b):\n",
    "    '''\n",
    "    fig, ax = plt.subplots()\n",
    "    \n",
    "    ax.scatter(my_x,my_y)\n",
    "    \n",
    "    x_min, x_max = ax.get_xlim()\n",
    "    y_min, y_max = my_m*x_min + my_b, my_m*x_max + my_b\n",
    "    \n",
    "    ax.set_xlim([x_min, x_max])\n",
    "    _=ax.plot([x_min, x_max], [y_min, y_max])\n",
    "    '''\n",
    "    # Convert input data for plotting\n",
    "    x_np = my_x.detach().numpy() if torch.is_tensor(my_x) else my_x\n",
    "    y_np = my_y.detach().numpy() if torch.is_tensor(my_y) else my_y\n",
    "    m_val = my_m.item() if torch.is_tensor(my_m) else my_m\n",
    "    b_val = my_b.item() if torch.is_tensor(my_b) else my_b\n",
    "    \n",
    "    fig, ax = plt.subplots()\n",
    "    ax.scatter(x_np, y_np)\n",
    "    \n",
    "    x_min, x_max = ax.get_xlim()\n",
    "    \n",
    "    # Ensure y_min and y_max are floats\n",
    "    y_min = float(m_val * x_min + b_val)\n",
    "    y_max = float(m_val * x_max + b_val)\n",
    "    \n",
    "    ax.set_xlim([x_min, x_max])\n",
    "    ax.plot([x_min, x_max], [y_min, y_max])"
   ]
  },
  {
   "cell_type": "code",
   "execution_count": 19,
   "id": "c24d1fc3",
   "metadata": {},
   "outputs": [
    {
     "data": {
      "image/png": "[encoded data removed]",
      "text/plain": [
       "<Figure size 640x480 with 1 Axes>"
      ]
     },
     "metadata": {},
     "output_type": "display_data"
    }
   ],
   "source": [
    "regression_plot(x,y,m,b)"
   ]
  },
  {
   "cell_type": "code",
   "execution_count": 21,
   "id": "a77a61f4",
   "metadata": {},
   "outputs": [],
   "source": [
    "def regression(my_x,my_m,my_b):\n",
    "    return my_x*my_m+my_b"
   ]
  },
  {
   "cell_type": "code",
   "execution_count": null,
   "id": "4d36c8df",
   "metadata": {},
   "outputs": [],
   "source": []
  }
 ],
 "metadata": {
  "kernelspec": {
   "display_name": "venv",
   "language": "python",
   "name": "python3"
  },
  "language_info": {
   "codemirror_mode": {
    "name": "ipython",
    "version": 3
   },
   "file_extension": ".py",
   "mimetype": "text/x-python",
   "name": "python",
   "nbconvert_exporter": "python",
   "pygments_lexer": "ipython3",
   "version": "3.10.0"
  }
 },
 "nbformat": 4,
 "nbformat_minor": 5
}
