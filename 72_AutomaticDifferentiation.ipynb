{
 "cells": [
  {
   "cell_type": "markdown",
   "id": "cb21a9d5",
   "metadata": {},
   "source": [
    "# Automatic Differentiation"
   ]
  },
  {
   "cell_type": "markdown",
   "id": "8b44c80b",
   "metadata": {},
   "source": [
    "```\n",
    "x = 5\n",
    "y = x^2\n",
    "\n",
    "\n",
    "(dy)/(dx) = 2x = 2(5) = 10\n",
    "```"
   ]
  },
  {
   "cell_type": "code",
   "execution_count": 1,
   "id": "c3cfcf20",
   "metadata": {},
   "outputs": [],
   "source": [
    "import torch\n",
    "import tensorflow as tf\n",
    "import matplotlib.pyplot as plt"
   ]
  },
  {
   "cell_type": "code",
   "execution_count": 2,
   "id": "830a8f91",
   "metadata": {},
   "outputs": [
    {
     "data": {
      "text/plain": [
       "tensor(5.)"
      ]
     },
     "execution_count": 2,
     "metadata": {},
     "output_type": "execute_result"
    }
   ],
   "source": [
    "x = torch.tensor(5.0)\n",
    "x"
   ]
  },
  {
   "cell_type": "code",
   "execution_count": 3,
   "id": "4a41e824",
   "metadata": {},
   "outputs": [
    {
     "data": {
      "text/plain": [
       "tensor(5., requires_grad=True)"
      ]
     },
     "execution_count": 3,
     "metadata": {},
     "output_type": "execute_result"
    }
   ],
   "source": [
    "x.requires_grad_() # contagiously track gradients through forward pass"
   ]
  },
  {
   "cell_type": "code",
   "execution_count": 4,
   "id": "adb78b8a",
   "metadata": {},
   "outputs": [],
   "source": [
    "y = x**2"
   ]
  },
  {
   "cell_type": "code",
   "execution_count": 5,
   "id": "1b0df05a",
   "metadata": {},
   "outputs": [],
   "source": [
    "y.backward() # use autodiff"
   ]
  },
  {
   "cell_type": "code",
   "execution_count": 6,
   "id": "a442062e",
   "metadata": {},
   "outputs": [
    {
     "data": {
      "text/plain": [
       "tensor(10.)"
      ]
     },
     "execution_count": 6,
     "metadata": {},
     "output_type": "execute_result"
    }
   ],
   "source": [
    "x.grad"
   ]
  },
  {
   "cell_type": "markdown",
   "id": "b7373e27",
   "metadata": {},
   "source": [
    "Repeat but with TensorFlow"
   ]
  },
  {
   "cell_type": "code",
   "execution_count": 7,
   "id": "570eb534",
   "metadata": {},
   "outputs": [
    {
     "data": {
      "text/plain": [
       "<tf.Variable 'Variable:0' shape=() dtype=float32, numpy=5.0>"
      ]
     },
     "execution_count": 7,
     "metadata": {},
     "output_type": "execute_result"
    }
   ],
   "source": [
    "x = tf.Variable(5.0)\n",
    "x"
   ]
  },
  {
   "cell_type": "code",
   "execution_count": 8,
   "id": "f7c045bb",
   "metadata": {},
   "outputs": [],
   "source": [
    "with tf.GradientTape() as t:\n",
    "    t.watch(x) # track forward pass\n",
    "    y = x**2"
   ]
  },
  {
   "cell_type": "code",
   "execution_count": 9,
   "id": "d8cb0e1b",
   "metadata": {},
   "outputs": [
    {
     "data": {
      "text/plain": [
       "<tf.Tensor: shape=(), dtype=float32, numpy=10.0>"
      ]
     },
     "execution_count": 9,
     "metadata": {},
     "output_type": "execute_result"
    }
   ],
   "source": [
    "t.gradient(y,x) # use autodiff"
   ]
  },
  {
   "cell_type": "markdown",
   "id": "e5bdd2e2",
   "metadata": {},
   "source": [
    "# The Line Equation as a Tensor Graph #\n",
    "\n",
    "Lione equation: y = mx + b "
   ]
  },
  {
   "cell_type": "code",
   "execution_count": 10,
   "id": "5ae04e60",
   "metadata": {},
   "outputs": [
    {
     "data": {
      "text/plain": [
       "tensor([0., 1., 2., 3., 4., 5., 6., 7.])"
      ]
     },
     "execution_count": 10,
     "metadata": {},
     "output_type": "execute_result"
    }
   ],
   "source": [
    "x = torch.tensor([0,1,2,3,4,5,6,7.]) # E.g.: Dosage of drug for treating Alzheimer's disease\n",
    "x"
   ]
  },
  {
   "cell_type": "code",
   "execution_count": 11,
   "id": "73c797a4",
   "metadata": {},
   "outputs": [],
   "source": [
    "# m= -0.5 and b = 2\n",
    "# y = -0.5*x + 2 + torch.normal(mean=torch.zeros(8), std=0.2)\n",
    "# y"
   ]
  },
  {
   "cell_type": "code",
   "execution_count": 12,
   "id": "fe8fa11f",
   "metadata": {},
   "outputs": [
    {
     "data": {
      "text/plain": [
       "tensor([ 1.8600,  1.3100,  0.6200,  0.3300,  0.0900, -0.6700, -1.2300, -1.3700])"
      ]
     },
     "execution_count": 12,
     "metadata": {},
     "output_type": "execute_result"
    }
   ],
   "source": [
    "# For reproducibility of this tutorial, here's a fixed example of y values obtained by running the commented-out line above:\n",
    "y = torch.tensor([1.86,1.31,.62,.33,.09,-.67,-1.23,-1.37]) # E.g.: Patient's \"forgetfulness score\"\n",
    "y"
   ]
  },
  {
   "cell_type": "code",
   "execution_count": 13,
   "id": "79fb72f9",
   "metadata": {},
   "outputs": [
    {
     "data": {
      "image/png": "[encoded data removed]",
      "text/plain": [
       "<Figure size 640x480 with 1 Axes>"
      ]
     },
     "metadata": {},
     "output_type": "display_data"
    }
   ],
   "source": [
    "fig, ax = plt.subplots()\n",
    "plt.title('Clinical Trial')\n",
    "plt.xlabel('Drug Dosage (mL)')\n",
    "plt.ylabel('Forgetfulness')\n",
    "_=ax.scatter(x,y)"
   ]
  },
  {
   "cell_type": "code",
   "execution_count": 14,
   "id": "f46b9837",
   "metadata": {},
   "outputs": [
    {
     "data": {
      "text/plain": [
       "tensor([0.9000], requires_grad=True)"
      ]
     },
     "execution_count": 14,
     "metadata": {},
     "output_type": "execute_result"
    }
   ],
   "source": [
    "# IOnitialize the slope parameter m with a \"random\" value of 0.9\n",
    "m = torch.tensor([0.9]).requires_grad_()\n",
    "m"
   ]
  },
  {
   "cell_type": "code",
   "execution_count": 15,
   "id": "b5a0a0b4",
   "metadata": {},
   "outputs": [
    {
     "data": {
      "text/plain": [
       "tensor([0.1000], requires_grad=True)"
      ]
     },
     "execution_count": 15,
     "metadata": {},
     "output_type": "execute_result"
    }
   ],
   "source": [
    "b = torch.tensor([0.1]).requires_grad_()\n",
    "b"
   ]
  },
  {
   "cell_type": "code",
   "execution_count": 18,
   "id": "3957ac1f",
   "metadata": {},
   "outputs": [],
   "source": [
    "def regression_plot(my_x,my_y,my_m,my_b):\n",
    "    '''\n",
    "    fig, ax = plt.subplots()\n",
    "    \n",
    "    ax.scatter(my_x,my_y)\n",
    "    \n",
    "    x_min, x_max = ax.get_xlim()\n",
    "    y_min, y_max = my_m*x_min + my_b, my_m*x_max + my_b\n",
    "    \n",
    "    ax.set_xlim([x_min, x_max])\n",
    "    _=ax.plot([x_min, x_max], [y_min, y_max])\n",
    "    '''\n",
    "    # Convert input data for plotting\n",
    "    x_np = my_x.detach().numpy() if torch.is_tensor(my_x) else my_x\n",
    "    y_np = my_y.detach().numpy() if torch.is_tensor(my_y) else my_y\n",
    "    m_val = my_m.item() if torch.is_tensor(my_m) else my_m\n",
    "    b_val = my_b.item() if torch.is_tensor(my_b) else my_b\n",
    "    \n",
    "    fig, ax = plt.subplots()\n",
    "    ax.scatter(x_np, y_np)\n",
    "    \n",
    "    x_min, x_max = ax.get_xlim()\n",
    "    \n",
    "    # Ensure y_min and y_max are floats\n",
    "    y_min = float(m_val * x_min + b_val)\n",
    "    y_max = float(m_val * x_max + b_val)\n",
    "    \n",
    "    ax.set_xlim([x_min, x_max])\n",
    "    ax.plot([x_min, x_max], [y_min, y_max])"
   ]
  },
  {
   "cell_type": "code",
   "execution_count": 19,
   "id": "c24d1fc3",
   "metadata": {},
   "outputs": [
    {
     "data": {
      "image/png": "[encoded data removed]",
      "text/plain": [
       "<Figure size 640x480 with 1 Axes>"
      ]
     },
     "metadata": {},
     "output_type": "display_data"
    }
   ],
   "source": [
    "regression_plot(x,y,m,b)"
   ]
  },
  {
   "cell_type": "code",
   "execution_count": 21,
   "id": "a77a61f4",
   "metadata": {},
   "outputs": [],
   "source": [
    "def regression(my_x,my_m,my_b):\n",
    "    return my_x*my_m+my_b"
   ]
  },
  {
   "cell_type": "markdown",
   "id": "336dcafa",
   "metadata": {},
   "source": [
    "# Machine Learning with Autodiff #\n",
    "\n",
    "ML in four easy steps"
   ]
  },
  {
   "cell_type": "code",
   "execution_count": 22,
   "id": "4d36c8df",
   "metadata": {},
   "outputs": [
    {
     "data": {
      "text/plain": [
       "tensor([0.1000, 1.0000, 1.9000, 2.8000, 3.7000, 4.6000, 5.5000, 6.4000],\n",
       "       grad_fn=<AddBackward0>)"
      ]
     },
     "execution_count": 22,
     "metadata": {},
     "output_type": "execute_result"
    }
   ],
   "source": [
    "# Step 1: Forward pass\n",
    "yhat = regression(x,m,b)\n",
    "yhat"
   ]
  },
  {
   "cell_type": "code",
   "execution_count": 24,
   "id": "4fc405f3",
   "metadata": {},
   "outputs": [],
   "source": [
    "# Step 2 Compare yhat with true y to calculate cost C\n",
    "def mse(my_yhat, my_y):\n",
    "    sigma = torch.sum((my_yhat-my_y)**2)\n",
    "    return sigma/len(my_y)"
   ]
  },
  {
   "cell_type": "code",
   "execution_count": 25,
   "id": "faaa324a",
   "metadata": {},
   "outputs": [
    {
     "data": {
      "text/plain": [
       "tensor(19.6755, grad_fn=<DivBackward0>)"
      ]
     },
     "execution_count": 25,
     "metadata": {},
     "output_type": "execute_result"
    }
   ],
   "source": [
    "C = mse(yhat, y)\n",
    "C"
   ]
  },
  {
   "cell_type": "code",
   "execution_count": 26,
   "id": "d45ff71f",
   "metadata": {},
   "outputs": [],
   "source": [
    "# Step 3 Use autodiff to calculate gradient of C w.r.t parameters\n",
    "C.backward()"
   ]
  },
  {
   "cell_type": "code",
   "execution_count": 27,
   "id": "95070418",
   "metadata": {},
   "outputs": [
    {
     "data": {
      "text/plain": [
       "tensor([36.3050])"
      ]
     },
     "execution_count": 27,
     "metadata": {},
     "output_type": "execute_result"
    }
   ],
   "source": [
    "m.grad"
   ]
  },
  {
   "cell_type": "code",
   "execution_count": 28,
   "id": "6da91253",
   "metadata": {},
   "outputs": [
    {
     "data": {
      "text/plain": [
       "tensor([6.2650])"
      ]
     },
     "execution_count": 28,
     "metadata": {},
     "output_type": "execute_result"
    }
   ],
   "source": [
    "b.grad"
   ]
  },
  {
   "cell_type": "code",
   "execution_count": 29,
   "id": "f92a4344",
   "metadata": {},
   "outputs": [],
   "source": [
    "# Step 4 Gradient descent\n",
    "optimizer = torch.optim.SGD([m,b], lr=0.01)"
   ]
  },
  {
   "cell_type": "code",
   "execution_count": 30,
   "id": "17b286d7",
   "metadata": {},
   "outputs": [],
   "source": [
    "optimizer.step()"
   ]
  },
  {
   "cell_type": "code",
   "execution_count": 31,
   "id": "f49094e0",
   "metadata": {},
   "outputs": [
    {
     "data": {
      "text/plain": [
       "tensor([0.5369], requires_grad=True)"
      ]
     },
     "execution_count": 31,
     "metadata": {},
     "output_type": "execute_result"
    }
   ],
   "source": [
    "m"
   ]
  },
  {
   "cell_type": "code",
   "execution_count": 32,
   "id": "9e983af3",
   "metadata": {},
   "outputs": [
    {
     "data": {
      "text/plain": [
       "tensor([0.0374], requires_grad=True)"
      ]
     },
     "execution_count": 32,
     "metadata": {},
     "output_type": "execute_result"
    }
   ],
   "source": [
    "b"
   ]
  },
  {
   "cell_type": "code",
   "execution_count": 33,
   "id": "6df1d844",
   "metadata": {},
   "outputs": [
    {
     "data": {
      "image/png": "[encoded data removed]",
      "text/plain": [
       "<Figure size 640x480 with 1 Axes>"
      ]
     },
     "metadata": {},
     "output_type": "display_data"
    }
   ],
   "source": [
    "regression_plot(x,y,m,b)"
   ]
  },
  {
   "cell_type": "code",
   "execution_count": 34,
   "id": "8299972b",
   "metadata": {},
   "outputs": [
    {
     "data": {
      "text/plain": [
       "tensor(8.5722, grad_fn=<DivBackward0>)"
      ]
     },
     "execution_count": 34,
     "metadata": {},
     "output_type": "execute_result"
    }
   ],
   "source": [
    "# Repeat steps 1 and 2\n",
    "C = mse(regression(x,m,b),y)\n",
    "C"
   ]
  },
  {
   "cell_type": "code",
   "execution_count": 37,
   "id": "e5d489da",
   "metadata": {},
   "outputs": [],
   "source": [
    "#  put the 4 steps in a loop to iteratively minimize cost towards zero:\n",
    "epochs = 1000\n",
    "for epoch in range(epochs):\n",
    "    optimizer.zero_grad() # Reset gradients to zero; else they accumulate\n",
    "    \n",
    "    yhat = regression(x,m,b) # Step 1\n",
    "    C = mse(yhat,y) # Step 2\n",
    "    \n",
    "    C.backward() # Step3\n",
    "    optimizer.step() # Step 4\n",
    "    \n",
    "    #print(f\"Epoch{epoch}, cost{'%.3g'%C.item()}, m grad{'%.3g'%m.grand.item(yhat)}\")#, b grad{}.\")\n",
    "    "
   ]
  },
  {
   "cell_type": "code",
   "execution_count": 39,
   "id": "a6df0684",
   "metadata": {},
   "outputs": [
    {
     "data": {
      "image/png": "[encoded data removed]",
      "text/plain": [
       "<Figure size 640x480 with 1 Axes>"
      ]
     },
     "metadata": {},
     "output_type": "display_data"
    }
   ],
   "source": [
    "regression_plot(x,y,m,b)"
   ]
  },
  {
   "cell_type": "code",
   "execution_count": 42,
   "id": "b8367e66",
   "metadata": {},
   "outputs": [
    {
     "data": {
      "text/plain": [
       "-0.4692818522453308"
      ]
     },
     "execution_count": 42,
     "metadata": {},
     "output_type": "execute_result"
    }
   ],
   "source": [
    "m.item() # close to -0.5"
   ]
  },
  {
   "cell_type": "code",
   "execution_count": 43,
   "id": "206eccf6",
   "metadata": {},
   "outputs": [
    {
     "data": {
      "text/plain": [
       "1.7599809169769287"
      ]
     },
     "execution_count": 43,
     "metadata": {},
     "output_type": "execute_result"
    }
   ],
   "source": [
    "b.item() # Close to 2"
   ]
  }
 ],
 "metadata": {
  "kernelspec": {
   "display_name": "venv",
   "language": "python",
   "name": "python3"
  },
  "language_info": {
   "codemirror_mode": {
    "name": "ipython",
    "version": 3
   },
   "file_extension": ".py",
   "mimetype": "text/x-python",
   "name": "python",
   "nbconvert_exporter": "python",
   "pygments_lexer": "ipython3",
   "version": "3.10.0"
  }
 },
 "nbformat": 4,
 "nbformat_minor": 5
}
