{
 "cells": [
  {
   "cell_type": "markdown",
   "id": "30f8c2d3",
   "metadata": {},
   "source": [
    "## Scalars (Rank 0 Tensors) in Base Python "
   ]
  },
  {
   "cell_type": "code",
   "execution_count": null,
   "id": "3e586791",
   "metadata": {},
   "outputs": [],
   "source": [
    "x = 25\n",
    "type(x)"
   ]
  },
  {
   "cell_type": "code",
   "execution_count": null,
   "id": "ea0c9f52",
   "metadata": {},
   "outputs": [],
   "source": []
  }
 ],
 "metadata": {
  "kernelspec": {
   "display_name": "venv",
   "language": "python",
   "name": "python3"
  },
  "language_info": {
   "name": "python",
   "version": "3.10.0"
  }
 },
 "nbformat": 4,
 "nbformat_minor": 5
}
