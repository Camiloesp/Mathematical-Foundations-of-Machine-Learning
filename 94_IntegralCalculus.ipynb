{
 "cells": [
  {
   "cell_type": "markdown",
   "id": "4cbd0b05",
   "metadata": {},
   "source": [
    "# Numeric Intergration "
   ]
  },
  {
   "cell_type": "code",
   "execution_count": 5,
   "id": "67da71a4",
   "metadata": {},
   "outputs": [],
   "source": [
    "from scipy.integrate import quad # \"quadrature\" = numerical integration (as opposed to symbolic)"
   ]
  },
  {
   "cell_type": "code",
   "execution_count": 2,
   "id": "d4d2c49d",
   "metadata": {},
   "outputs": [],
   "source": [
    "def g(x):\n",
    "    return x/2"
   ]
  },
  {
   "cell_type": "code",
   "execution_count": 6,
   "id": "05395955",
   "metadata": {},
   "outputs": [
    {
     "data": {
      "text/plain": [
       "(0.75, 8.326672684688674e-15)"
      ]
     },
     "execution_count": 6,
     "metadata": {},
     "output_type": "execute_result"
    }
   ],
   "source": [
    "quad(g, 1, 2)"
   ]
  },
  {
   "cell_type": "code",
   "execution_count": 7,
   "id": "0e4bc266",
   "metadata": {},
   "outputs": [],
   "source": [
    "def h(x):\n",
    "    return 2*x"
   ]
  },
  {
   "cell_type": "code",
   "execution_count": 8,
   "id": "06a4778f",
   "metadata": {},
   "outputs": [
    {
     "data": {
      "text/plain": [
       "(7.0, 7.771561172376096e-14)"
      ]
     },
     "execution_count": 8,
     "metadata": {},
     "output_type": "execute_result"
    }
   ],
   "source": [
    "quad(h,3,4)"
   ]
  },
  {
   "cell_type": "code",
   "execution_count": null,
   "id": "ddd71d8d",
   "metadata": {},
   "outputs": [],
   "source": []
  }
 ],
 "metadata": {
  "kernelspec": {
   "display_name": "venv",
   "language": "python",
   "name": "python3"
  },
  "language_info": {
   "codemirror_mode": {
    "name": "ipython",
    "version": 3
   },
   "file_extension": ".py",
   "mimetype": "text/x-python",
   "name": "python",
   "nbconvert_exporter": "python",
   "pygments_lexer": "ipython3",
   "version": "3.10.0"
  }
 },
 "nbformat": 4,
 "nbformat_minor": 5
}
